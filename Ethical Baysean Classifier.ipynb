{
 "cells": [
  {
   "cell_type": "code",
   "execution_count": 6,
   "metadata": {},
   "outputs": [
    {
     "name": "stderr",
     "output_type": "stream",
     "text": [
      "[nltk_data] Downloading package punkt to\n",
      "[nltk_data]     C:\\Users\\USER\\AppData\\Roaming\\nltk_data...\n",
      "[nltk_data]   Unzipping tokenizers\\punkt.zip.\n"
     ]
    },
    {
     "data": {
      "text/plain": [
       "True"
      ]
     },
     "execution_count": 6,
     "metadata": {},
     "output_type": "execute_result"
    }
   ],
   "source": [
    "import nltk\n",
    "nltk.download('punkt')"
   ]
  },
  {
   "cell_type": "code",
   "execution_count": 12,
   "metadata": {},
   "outputs": [],
   "source": [
    "import numpy as np\n",
    "import matplotlib.pyplot as plt\n",
    "from textblob import TextBlob\n",
    "from textblob.classifiers import NaiveBayesClassifier "
   ]
  },
  {
   "cell_type": "code",
   "execution_count": 15,
   "metadata": {},
   "outputs": [
    {
     "name": "stdout",
     "output_type": "stream",
     "text": [
      "Text lines = 10\n",
      "Text lines = 10\n"
     ]
    }
   ],
   "source": [
    "with open(\"analysed/actual_statement_pos.txt\",\"r\", encoding=\"utf8\", errors='ignore')as f:\n",
    "    entire_txt = f.read()\n",
    "    \"\"\"stm = entire_txt.split(\".\")\"\"\" \n",
    "    stm = entire_txt.splitlines()\n",
    "    print(\"Text lines =\", len(stm))\n",
    "    \n",
    "with open(\"analysed/ethical_statement_pos.txt\",\"r\", encoding=\"utf8\", errors='ignore')as f:\n",
    "    entire_txt2 = f.read()\n",
    "    \"\"\"stm = entire_txt.split(\".\")\"\"\" \n",
    "    stm2 = entire_txt2.splitlines()\n",
    "    print(\"Text lines =\", len(stm2))"
   ]
  },
  {
   "cell_type": "code",
   "execution_count": 21,
   "metadata": {},
   "outputs": [
    {
     "name": "stdout",
     "output_type": "stream",
     "text": [
      "We are trying to be ethical <<- Text | Classified ->>  act\n",
      "We must be trying to be ethical <<- Text | Classified ->>  etc\n"
     ]
    }
   ],
   "source": [
    "for i,item in enumerate(stm):\n",
    "    train = [ \n",
    "        (stm[i], \"act\"), \n",
    "        (stm2[i], \"etc\"), \n",
    "    ] \n",
    "    \n",
    "cl = NaiveBayesClassifier(train)\n",
    "\n",
    "state1 = \"We are trying to be ethical\"\n",
    "state2 = \"We must be trying to be ethical\"\n",
    "\n",
    "state1_class = cl.classify(state1)\n",
    "state2_class = cl.classify(state2)\n",
    "\n",
    "print(state1,\"<<- Text | Classified ->> \", state1_class)\n",
    "print(state2,\"<<- Text | Classified ->> \", state2_class)"
   ]
  },
  {
   "cell_type": "code",
   "execution_count": 23,
   "metadata": {},
   "outputs": [
    {
     "name": "stdout",
     "output_type": "stream",
     "text": [
      "Text lines = 10\n",
      "Text lines = 10\n"
     ]
    }
   ],
   "source": [
    "with open(\"analysed/ethical_statement_pos.txt\",\"r\", encoding=\"utf8\", errors='ignore')as f:\n",
    "    entire_txt = f.read()\n",
    "    stm_pos = entire_txt.splitlines()\n",
    "    print(\"Text lines =\", len(stm_pos))\n",
    "    \n",
    "with open(\"analysed/ethical_statement_neg.txt\",\"r\", encoding=\"utf8\", errors='ignore')as f:\n",
    "    entire_txt2 = f.read()\n",
    "    stm_neg = entire_txt2.splitlines()\n",
    "    print(\"Text lines =\", len(stm_neg))"
   ]
  },
  {
   "cell_type": "code",
   "execution_count": 25,
   "metadata": {},
   "outputs": [],
   "source": [
    "for i,item in enumerate(stm_pos):\n",
    "    train2 = [ \n",
    "        (stm_pos[i], \"etc_pos\"), \n",
    "        (stm_neg[i], \"etc_neg\"), \n",
    "    ] "
   ]
  },
  {
   "cell_type": "code",
   "execution_count": 27,
   "metadata": {},
   "outputs": [
    {
     "name": "stdout",
     "output_type": "stream",
     "text": [
      "We must be trying to be ethical <<- Text | Classified ->>  etc_pos\n",
      "We must not be trying to be ethical <<- Text | Classified ->>  etc_neg\n"
     ]
    }
   ],
   "source": [
    "cl2 = NaiveBayesClassifier(train2)\n",
    "\n",
    "state3 = \"We must be trying to be ethical\"\n",
    "state4 = \"We must not be trying to be ethical\"\n",
    "\n",
    "state3_class = cl2.classify(state3)\n",
    "state4_class = cl2.classify(state4)\n",
    "\n",
    "print(state3,\"<<- Text | Classified ->> \", state3_class)\n",
    "print(state4,\"<<- Text | Classified ->> \", state4_class)"
   ]
  },
  {
   "cell_type": "code",
   "execution_count": null,
   "metadata": {},
   "outputs": [],
   "source": []
  }
 ],
 "metadata": {
  "kernelspec": {
   "display_name": "Python 3",
   "language": "python",
   "name": "python3"
  },
  "language_info": {
   "codemirror_mode": {
    "name": "ipython",
    "version": 3
   },
   "file_extension": ".py",
   "mimetype": "text/x-python",
   "name": "python",
   "nbconvert_exporter": "python",
   "pygments_lexer": "ipython3",
   "version": "3.7.3"
  }
 },
 "nbformat": 4,
 "nbformat_minor": 2
}
